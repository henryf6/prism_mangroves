{
 "cells": [
  {
   "cell_type": "code",
   "execution_count": 1,
   "metadata": {},
   "outputs": [
    {
     "name": "stdout",
     "output_type": "stream",
     "text": [
      "['prm20140119t182713_rfl_ort', 'prm20140119t182133_rfl_ort', 'prm20140119t184451_rfl_ort', 'prm20140119t185056_rfl_ort', 'prm20140119t190307_rfl_ort', 'prm20140119t185651_rfl_ort', 'prm20140119t183909_rfl_ort', 'prm20140119t183310_rfl_ort', 'prm20140119t191543_rfl_ort', 'prm20140119t190852_rfl_ort']\n"
     ]
    }
   ],
   "source": [
    "import numpy as np, os,copy\n",
    "import hytools as ht\n",
    "import glob\n",
    "\n",
    "os.chdir('/Volumes/Extreme_SSD/mangroves/imagery') \n",
    "\n",
    "input_files = []\n",
    "for input in glob.glob('*ort'):\n",
    "    input_files.append(input)\n",
    "    \n",
    "print(input_files)"
   ]
  },
  {
   "cell_type": "code",
   "execution_count": 3,
   "metadata": {},
   "outputs": [
    {
     "ename": "KeyboardInterrupt",
     "evalue": "",
     "output_type": "error",
     "traceback": [
      "\u001b[0;31m---------------------------------------------------------------------------\u001b[0m",
      "\u001b[0;31mKeyboardInterrupt\u001b[0m                         Traceback (most recent call last)",
      "\u001b[0;32m<ipython-input-3-2d1d325fcd27>\u001b[0m in \u001b[0;36m<module>\u001b[0;34m\u001b[0m\n\u001b[1;32m     37\u001b[0m             \u001b[0mprint\u001b[0m\u001b[0;34m(\u001b[0m\u001b[0mhyObj\u001b[0m\u001b[0;34m.\u001b[0m\u001b[0mwavelengths\u001b[0m\u001b[0;34m[\u001b[0m\u001b[0miterator\u001b[0m\u001b[0;34m.\u001b[0m\u001b[0mcurrent_band\u001b[0m\u001b[0;34m]\u001b[0m\u001b[0;34m)\u001b[0m\u001b[0;34m\u001b[0m\u001b[0;34m\u001b[0m\u001b[0m\n\u001b[1;32m     38\u001b[0m         \u001b[0;31m#scale the band\u001b[0m\u001b[0;34m\u001b[0m\u001b[0;34m\u001b[0m\u001b[0;34m\u001b[0m\u001b[0m\n\u001b[0;32m---> 39\u001b[0;31m             \u001b[0mscaled_band\u001b[0m \u001b[0;34m=\u001b[0m \u001b[0mband\u001b[0m\u001b[0;34m*\u001b[0m\u001b[0mscaler\u001b[0m\u001b[0;34m\u001b[0m\u001b[0;34m\u001b[0m\u001b[0m\n\u001b[0m\u001b[1;32m     40\u001b[0m         \u001b[0;31m#Change negatives to 0\u001b[0m\u001b[0;34m\u001b[0m\u001b[0;34m\u001b[0m\u001b[0;34m\u001b[0m\u001b[0m\n\u001b[1;32m     41\u001b[0m             \u001b[0mscaled_band\u001b[0m\u001b[0;34m[\u001b[0m\u001b[0mscaled_band\u001b[0m\u001b[0;34m<\u001b[0m\u001b[0;36m0\u001b[0m\u001b[0;34m]\u001b[0m \u001b[0;34m=\u001b[0m \u001b[0;36m0\u001b[0m\u001b[0;34m\u001b[0m\u001b[0;34m\u001b[0m\u001b[0m\n",
      "\u001b[0;32m~/anaconda/lib/python3.6/site-packages/numpy/core/memmap.py\u001b[0m in \u001b[0;36m__array_wrap__\u001b[0;34m(self, arr, context)\u001b[0m\n\u001b[1;32m    313\u001b[0m             \u001b[0mself\u001b[0m\u001b[0;34m.\u001b[0m\u001b[0mbase\u001b[0m\u001b[0;34m.\u001b[0m\u001b[0mflush\u001b[0m\u001b[0;34m(\u001b[0m\u001b[0;34m)\u001b[0m\u001b[0;34m\u001b[0m\u001b[0;34m\u001b[0m\u001b[0m\n\u001b[1;32m    314\u001b[0m \u001b[0;34m\u001b[0m\u001b[0m\n\u001b[0;32m--> 315\u001b[0;31m     \u001b[0;32mdef\u001b[0m \u001b[0m__array_wrap__\u001b[0m\u001b[0;34m(\u001b[0m\u001b[0mself\u001b[0m\u001b[0;34m,\u001b[0m \u001b[0marr\u001b[0m\u001b[0;34m,\u001b[0m \u001b[0mcontext\u001b[0m\u001b[0;34m=\u001b[0m\u001b[0;32mNone\u001b[0m\u001b[0;34m)\u001b[0m\u001b[0;34m:\u001b[0m\u001b[0;34m\u001b[0m\u001b[0;34m\u001b[0m\u001b[0m\n\u001b[0m\u001b[1;32m    316\u001b[0m         \u001b[0marr\u001b[0m \u001b[0;34m=\u001b[0m \u001b[0msuper\u001b[0m\u001b[0;34m(\u001b[0m\u001b[0mmemmap\u001b[0m\u001b[0;34m,\u001b[0m \u001b[0mself\u001b[0m\u001b[0;34m)\u001b[0m\u001b[0;34m.\u001b[0m\u001b[0m__array_wrap__\u001b[0m\u001b[0;34m(\u001b[0m\u001b[0marr\u001b[0m\u001b[0;34m,\u001b[0m \u001b[0mcontext\u001b[0m\u001b[0;34m)\u001b[0m\u001b[0;34m\u001b[0m\u001b[0;34m\u001b[0m\u001b[0m\n\u001b[1;32m    317\u001b[0m \u001b[0;34m\u001b[0m\u001b[0m\n",
      "\u001b[0;31mKeyboardInterrupt\u001b[0m: "
     ]
    }
   ],
   "source": [
    "#%%capture  #prevent obnoxious printout\n",
    "for i in input_files:\n",
    "    hyObj = ht.openENVI(i)\n",
    "    hyObj.load_data()\n",
    "    hyObj.create_bad_bands([[299,450],[1050,1110]])\n",
    "    \n",
    "    # Create output file\n",
    "    output_file = i + \"_scaled\"\n",
    "    header_dict = copy.copy(hyObj.header_dict)\n",
    "    header_dict['interleave'] = 'bsq' \n",
    "    \n",
    "    #This line changes the datatype to uint16\n",
    "# see https://www.harrisgeospatial.com/docs/ENVIHeaderFiles.html\n",
    "    header_dict['data type'] =12\n",
    "\n",
    "# Here we pick a number to scale the data by since the data are between 0 and 1\n",
    "# the max value will be 10,000 which is less than 2^16 = 65536\n",
    "    scaler = 10000\n",
    "\n",
    "#Change no data values from -50 to some unrealistic number\n",
    "    header_dict['data ignore value'] = 2**16-1\n",
    "\n",
    "#Here we use the bad bands mask to  update the wavelegnths\n",
    "    header_dict['wavelength'] =hyObj.wavelengths[hyObj.bad_bands]\n",
    "\n",
    "# We also need to update the number of bands\n",
    "    header_dict['bands'] = len(hyObj.wavelengths[hyObj.bad_bands])\n",
    "\n",
    "    writer = ht.file_io.writeENVI(output_file,header_dict)\n",
    "    \n",
    "    iterator = hyObj.iterate(by = 'band')\n",
    "\n",
    "    new_band = 0\n",
    "    while not iterator.complete:\n",
    "        band = iterator.read_next()\n",
    "    #Only process good bands\n",
    "        if hyObj.bad_bands[iterator.current_band]:\n",
    "            print(hyObj.wavelengths[iterator.current_band])\n",
    "        #scale the band\n",
    "            scaled_band = band*scaler\n",
    "        #Change negatives to 0\n",
    "            scaled_band[scaled_band<0] = 0\n",
    "        #Change no data value\n",
    "            scaled_band[band==hyObj.no_data ] = header_dict['data ignore value']\n",
    "\n",
    "            writer.write_band(scaled_band,new_band)\n",
    "            new_band +=1\n",
    "        \n",
    "    writer.close()\n",
    "    \n",
    "    "
   ]
  },
  {
   "cell_type": "code",
   "execution_count": null,
   "metadata": {},
   "outputs": [],
   "source": [
    "#####Setup#####\n",
    "\n",
    "#load modules\n",
    "#import hytools as ht\n",
    "#from spectral import *\n",
    "#import spectral.io.envi as envi\n",
    "#import numpy as np\n",
    "#import matplotlib as plt\n",
    "#%matplotlib inlxine\n",
    "#import mpld3\n",
    "#mpld3.enable_notebook()\n",
    "\n",
    "#Read in imagery data\n",
    "#first test: clean two flightlines and try to mosaic them\n",
    "#img1 = envi.open('/Volumes/Extreme_SSD/mangroves/imagery/20140119/prm20140119t182133_rfl_ort.hdr',\n",
    "#                '/Volumes/Extreme_SSD/mangroves/imagery/20140119/prm20140119t182133_rfl_ort.dat')\n",
    "\n",
    "#img2 = envi.open('/Volumes/Extreme_SSD/mangroves/imagery/20140119/prm20140119t182713_rfl_ort.hdr',\n",
    "#                '/Volumes/Extreme_SSD/mangroves/imagery/20140119/prm20140119t182713_rfl_ort')"
   ]
  },
  {
   "cell_type": "code",
   "execution_count": 4,
   "metadata": {},
   "outputs": [],
   "source": [
    "#view = imshow(hyObj.data.clip[:,:,[120,88,62]], stretch=0.08,title=\"RGB Image of 2014 PRISM subset\" )"
   ]
  },
  {
   "cell_type": "code",
   "execution_count": 36,
   "metadata": {
    "scrolled": true
   },
   "outputs": [],
   "source": [
    "#first step is to remove noisy bands\n",
    "#first pass remove everything below 450 and above 1050 nm\n",
    "\n",
    "#get band positions\n",
    "#for index, value in enumerate(img1.bands.centers, 0):\n",
    "#     print(\"{}. {}\".format(index, value))\n",
    "        \n",
    "#0-54 need to be removed; 265-284 need to be axed\n",
    "#img_clean1 = img1[:,:,55:200]\n",
    "#img_clean2 = img2[:,:,55:264]\n"
   ]
  }
 ],
 "metadata": {
  "kernelspec": {
   "display_name": "Python 3",
   "language": "python",
   "name": "python3"
  },
  "language_info": {
   "codemirror_mode": {
    "name": "ipython",
    "version": 3
   },
   "file_extension": ".py",
   "mimetype": "text/x-python",
   "name": "python",
   "nbconvert_exporter": "python",
   "pygments_lexer": "ipython3",
   "version": "3.6.9"
  }
 },
 "nbformat": 4,
 "nbformat_minor": 2
}
